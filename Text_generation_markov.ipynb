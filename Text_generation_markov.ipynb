{
  "nbformat": 4,
  "nbformat_minor": 0,
  "metadata": {
    "colab": {
      "provenance": [],
      "authorship_tag": "ABX9TyNZhPqvOUHhSOru48FqfG8e",
      "include_colab_link": true
    },
    "kernelspec": {
      "name": "python3",
      "display_name": "Python 3"
    },
    "language_info": {
      "name": "python"
    }
  },
  "cells": [
    {
      "cell_type": "markdown",
      "metadata": {
        "id": "view-in-github",
        "colab_type": "text"
      },
      "source": [
        "<a href=\"https://colab.research.google.com/github/Suriyakumaran871/PRODIGY_TrackCode_3/blob/main/Text_generation_markov.ipynb\" target=\"_parent\"><img src=\"https://colab.research.google.com/assets/colab-badge.svg\" alt=\"Open In Colab\"/></a>"
      ]
    },
    {
      "cell_type": "code",
      "execution_count": 1,
      "metadata": {
        "colab": {
          "base_uri": "https://localhost:8080/"
        },
        "id": "oFrf6JR9xtJW",
        "outputId": "49098ee4-7291-46a3-aa95-bf16d704984e"
      },
      "outputs": [
        {
          "output_type": "stream",
          "name": "stdout",
          "text": [
            "Collecting markovify\n",
            "  Downloading markovify-0.9.4-py3-none-any.whl.metadata (23 kB)\n",
            "Collecting unidecode (from markovify)\n",
            "  Downloading Unidecode-1.4.0-py3-none-any.whl.metadata (13 kB)\n",
            "Downloading markovify-0.9.4-py3-none-any.whl (19 kB)\n",
            "Downloading Unidecode-1.4.0-py3-none-any.whl (235 kB)\n",
            "\u001b[2K   \u001b[90m━━━━━━━━━━━━━━━━━━━━━━━━━━━━━━━━━━━━━━━━\u001b[0m \u001b[32m235.8/235.8 kB\u001b[0m \u001b[31m8.9 MB/s\u001b[0m eta \u001b[36m0:00:00\u001b[0m\n",
            "\u001b[?25hInstalling collected packages: unidecode, markovify\n",
            "Successfully installed markovify-0.9.4 unidecode-1.4.0\n"
          ]
        }
      ],
      "source": [
        "!pip install markovify"
      ]
    },
    {
      "cell_type": "code",
      "source": [
        "import markovify\n",
        "import random"
      ],
      "metadata": {
        "id": "d-yTwXG-x6Hm"
      },
      "execution_count": 2,
      "outputs": []
    },
    {
      "cell_type": "code",
      "source": [
        "with open(\"/content/pride.txt\", encoding='latin-1') as f:\n",
        "  text = f.read()\n",
        "\n",
        "  text_model = markovify.Text(text)"
      ],
      "metadata": {
        "id": "0_ZhctQIyKCK"
      },
      "execution_count": 6,
      "outputs": []
    },
    {
      "cell_type": "code",
      "source": [
        "print( text_model.make_sentence() )"
      ],
      "metadata": {
        "colab": {
          "base_uri": "https://localhost:8080/"
        },
        "id": "69Fi4HCkyKFJ",
        "outputId": "780f74e7-33e1-49bc-eab7-be82ce60b285"
      },
      "execution_count": 7,
      "outputs": [
        {
          "output_type": "stream",
          "name": "stdout",
          "text": [
            "Like nearly all the feathers of the Longbourn family.\n"
          ]
        }
      ]
    },
    {
      "cell_type": "code",
      "source": [
        "# generate a short sentence\n",
        "print(text_model.make_short_sentence(140))"
      ],
      "metadata": {
        "colab": {
          "base_uri": "https://localhost:8080/"
        },
        "id": "BS7mH0xWyKIw",
        "outputId": "713cce60-6066-486d-a417-08671c91872f"
      },
      "execution_count": 8,
      "outputs": [
        {
          "output_type": "stream",
          "name": "stdout",
          "text": [
            "She was at leisure to be a common species.\n"
          ]
        }
      ]
    },
    {
      "cell_type": "code",
      "source": [
        "# build the model with a larger state size, then generate a sentence\n",
        "larger_state_text_model = markovify.Text(text, state_size=2)\n",
        "print( larger_state_text_model.make_sentence() )"
      ],
      "metadata": {
        "colab": {
          "base_uri": "https://localhost:8080/"
        },
        "id": "Yak8Dzz_zBoF",
        "outputId": "d9bcae38-c9f9-44ed-b3e6-a2a31c155193"
      },
      "execution_count": 9,
      "outputs": [
        {
          "output_type": "stream",
          "name": "stdout",
          "text": [
            "She dreaded lest the chambermaid had been spotted several times over the whole will then flow in!\n"
          ]
        }
      ]
    },
    {
      "cell_type": "code",
      "source": [
        "for i in range(12):\n",
        "  print( larger_state_text_model.make_sentence() )"
      ],
      "metadata": {
        "colab": {
          "base_uri": "https://localhost:8080/"
        },
        "id": "x00Hxqr0zBzX",
        "outputId": "6a2634ef-e928-45f8-f61c-9023fa5933a4"
      },
      "execution_count": 10,
      "outputs": [
        {
          "output_type": "stream",
          "name": "stdout",
          "text": [
            "It lays from seven to nine in number and of a different tendency, and precluding the possibility of objection; all loveliness and goodness as she did not look on as a matter of anxiety to think that Charlotte expressed herself on every point exactly as I could have conquered but the truth.\n",
            "Colonel Fitzwilliam, I was suddenly, but agreeably startled by a clump of wood or some other dish, and fearing she was going to say.\n",
            "Only this; that if clear conceptions of the 83rd Regiment, who has taken place, it is used to want to silence this. The example from the hope of relations, whose condition in life is so flat that it will be read with somewhat clearer attention a relation which you have given the most destructive bird imaginable.\n",
            "On Mr. and Mrs. Collinss happiness; and that she is full young to be discovered that they can be doing there. Mrs. Bennet, shaking her head, then she is full young to be the most affectionate, generous heart in the country in large flocks like the generality of the group.\n",
            "She has been obtained respecting the Trichoglossus Swainsonii is equally numerous in the mature dress being edged with white; irides reddish yellow; bill scarlet; feet ash-grey.\n",
            "He never said a great deal more than she feels.\n",
            "The effect was immediate.\n",
            "The younger ones out before the notice of this fortune. I noticed this particularly when it pairs, it may be seen that they can be doing there. Mrs. Bennet, all amazement, though flattered by his high and imposing manners, and nidification of course nothing is yet known, is almost three-and-twenty!\n",
            "Since the shire was to accompany Sir William did not succeed in obtaining four, two of the tail these bands are bright yellow on the first two years resembles the Hemipodius varius, but on these occasions it is therefore known: when the post came in her face, was pleased to know what a young bird of very powerful flight, and it was too much in the noise of Mrs. Bennet at conversation, and by Mr. Bingley never stirs without him. No sooner did he thus explained: About a month ago I answered it, for they knew that I come prepared to be both in its execution.\n",
            "Mr. Hurst also made her a little, Fitzwilliam asked her if Charlotte Lucas should happen to be attached to meI believe it at Illawarra, on the subject, replied Wickham; I can hardly expect me to give preference to such objects as they drew near that I visited South Australia.\n",
            "An excellent consolation in its disposition, for although Indian corn I was to have the earliest assurance of the house so much engaged in listening to my daughter.\n",
            "I found, said he, when no importance in the garden, and here the Ng0 30 F ow-oo constructs its nest, a large number of other trees growing on the banks of the impropriety of her time.\n"
          ]
        }
      ]
    },
    {
      "cell_type": "code",
      "source": [
        "with open(\"/content/pride.txt\", encoding='latin-1') as f:\n",
        "  text = f.read()\n",
        "\n",
        "\n",
        "text_model = markovify.Text(text)"
      ],
      "metadata": {
        "id": "NhdonUEPzB8J"
      },
      "execution_count": 13,
      "outputs": []
    },
    {
      "cell_type": "code",
      "source": [
        "print( text_model.make_sentence() )"
      ],
      "metadata": {
        "colab": {
          "base_uri": "https://localhost:8080/"
        },
        "id": "ybpEMF0AzrdN",
        "outputId": "9910f0bd-530a-4301-d948-0b1601b4b178"
      },
      "execution_count": 14,
      "outputs": [
        {
          "output_type": "stream",
          "name": "stdout",
          "text": [
            "I should at this representation of the coasts of Australia, Part IV.\n"
          ]
        }
      ]
    },
    {
      "cell_type": "code",
      "source": [
        "novel = ''\n",
        "while (len( novel.split(\" \")) < 500):\n",
        "  for i in range(random.randrange(3,9)):\n",
        "    novel += text_model.make_sentence() + \" \"\n",
        "  novel += \"\\n\\n\"\n",
        "    # print(text_model.make_sentence()\n",
        "\n",
        "print(novel)"
      ],
      "metadata": {
        "colab": {
          "base_uri": "https://localhost:8080/"
        },
        "id": "DXcgFat4zwLY",
        "outputId": "a0038f01-6962-430f-f14b-576b82454dcc"
      },
      "execution_count": 15,
      "outputs": [
        {
          "output_type": "stream",
          "name": "stdout",
          "text": [
            "She longed to speak, she, in whose mind every idea gave way to townand without any symptom of love; and from the peculiar duty of us who have journeyed across the abdomen; the rich band of sulphur-yellow; flanks and abdomen purplish olive-brown; flanks white; all but the remaining feathers have the greatest rarity, since I am so far from her mothers presence be what he likes it. I do not talk of her time. As her successor in that mansion; and she would have been accustomed to frequent, and they entered Meryton. Very nonsensical to come to us all. But may we not hope that they would never give her opinion of all my three sons-in-law highly, said he. You know him to a careful investigation, is no other country is covered with trees of the inner webs of the natural size. \n",
            "\n",
            "They were rather deposited in the lengthened form of its wings gives it much the matter is absolutely settled. Had you not heard me say that he may defy us there. Donations are accepted in a hesitating manner how long Mr. Darcy would connect himself with coolly replying that he considered sufficient encouragement; and the liberty of communication cannot be too soon forgotten; and the following manner: You can be equally ill adapted to ordinary occasions, I always delight in the male; the lower part of this work. Aware that the interruption must be greater than at home. She soon learnt that they had gone through the hall, till she could not have. Her pale face and wing-coverts, both above and beneath, narrowly margined with sandy brown; all the specimens here mentioned little or no difference in the eastern coast appear to be done, but to stretch himself on one of my discourse, however your natural delicacy may lead you to let him seek it. Well, all I want. Mr. Darcy is so prone to it, and purposely kept it from any but him. He stood by her, and his prospects of Mr. Collins. \n",
            "\n",
            "It is too much, she feared, for the performance of this new and interesting objects, is proved by this, added Jane, that he is liberal-minded, just, sincere, rational, honourable, and ancientthough untitledfamilies. This roused a general astonishment; and he first came under my notice; both of which we have seen them so agreeable as he answered that he should have great penetration in such very strong objections against the lady. I never observed it to be overcome. With the kindest concern he came back again in the habit of hearing her brother and the following Tuesday. \n",
            "\n",
            "You have shown him off now much more to be accounted for. The officers may not be in Bingleys way. Mr. Darcy said nothing at all. The agitation and tears which the bird in a fortnight. She related the event of an adult and an awkward pause and then explained that it breeds in both instances such is really too great a depth of six and eight lines long by seven-eighths broad. His affection for Jane; and when they arose to receive the eggs tends to enhance rather than marry without some money. When they parted, Lady Catherine, that the horses were post; and neither the carriage, Mr. and Mrs. Collinss happiness; and that their silence was to have met without ill consequence is perhaps probable; but his manners gave a damp to her husband. I am more obliged to confess the truth, and everybody began to speak of it among the hills, and thinly timbered country where you are grievously to be supposed that any number may be thus described:  Frontal band blue, margined before and behind the eye, while in the colouring of the continent. \n",
            "\n",
            "\n"
          ]
        }
      ]
    },
    {
      "cell_type": "code",
      "source": [],
      "metadata": {
        "id": "227TNnkCzwO8"
      },
      "execution_count": null,
      "outputs": []
    }
  ]
}